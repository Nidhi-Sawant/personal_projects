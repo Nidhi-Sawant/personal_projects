{
 "cells": [
  {
   "cell_type": "code",
   "execution_count": 1,
   "id": "1f685a89",
   "metadata": {
    "scrolled": true
   },
   "outputs": [
    {
     "name": "stderr",
     "output_type": "stream",
     "text": [
      "C:\\Users\\Nidhi\\anaconda3\\lib\\site-packages\\pandas\\core\\arrays\\masked.py:60: UserWarning: Pandas requires version '1.3.6' or newer of 'bottleneck' (version '1.3.5' currently installed).\n",
      "  from pandas.core import (\n"
     ]
    }
   ],
   "source": [
    "import pandas as pd\n",
    "import numpy as np"
   ]
  },
  {
   "cell_type": "code",
   "execution_count": 2,
   "id": "3526aac3",
   "metadata": {
    "scrolled": false
   },
   "outputs": [
    {
     "data": {
      "text/html": [
       "<div>\n",
       "<style scoped>\n",
       "    .dataframe tbody tr th:only-of-type {\n",
       "        vertical-align: middle;\n",
       "    }\n",
       "\n",
       "    .dataframe tbody tr th {\n",
       "        vertical-align: top;\n",
       "    }\n",
       "\n",
       "    .dataframe thead th {\n",
       "        text-align: right;\n",
       "    }\n",
       "</style>\n",
       "<table border=\"1\" class=\"dataframe\">\n",
       "  <thead>\n",
       "    <tr style=\"text-align: right;\">\n",
       "      <th></th>\n",
       "      <th>age</th>\n",
       "      <th>sex</th>\n",
       "      <th>bmi</th>\n",
       "      <th>children</th>\n",
       "      <th>smoker</th>\n",
       "      <th>region</th>\n",
       "      <th>charges</th>\n",
       "    </tr>\n",
       "  </thead>\n",
       "  <tbody>\n",
       "    <tr>\n",
       "      <th>0</th>\n",
       "      <td>19</td>\n",
       "      <td>female</td>\n",
       "      <td>27.900</td>\n",
       "      <td>0</td>\n",
       "      <td>yes</td>\n",
       "      <td>southwest</td>\n",
       "      <td>16884.92400</td>\n",
       "    </tr>\n",
       "    <tr>\n",
       "      <th>1</th>\n",
       "      <td>18</td>\n",
       "      <td>male</td>\n",
       "      <td>33.770</td>\n",
       "      <td>1</td>\n",
       "      <td>no</td>\n",
       "      <td>southeast</td>\n",
       "      <td>1725.55230</td>\n",
       "    </tr>\n",
       "    <tr>\n",
       "      <th>2</th>\n",
       "      <td>28</td>\n",
       "      <td>male</td>\n",
       "      <td>33.000</td>\n",
       "      <td>3</td>\n",
       "      <td>no</td>\n",
       "      <td>southeast</td>\n",
       "      <td>4449.46200</td>\n",
       "    </tr>\n",
       "    <tr>\n",
       "      <th>3</th>\n",
       "      <td>33</td>\n",
       "      <td>male</td>\n",
       "      <td>22.705</td>\n",
       "      <td>0</td>\n",
       "      <td>no</td>\n",
       "      <td>northwest</td>\n",
       "      <td>21984.47061</td>\n",
       "    </tr>\n",
       "    <tr>\n",
       "      <th>4</th>\n",
       "      <td>32</td>\n",
       "      <td>male</td>\n",
       "      <td>28.880</td>\n",
       "      <td>0</td>\n",
       "      <td>no</td>\n",
       "      <td>northwest</td>\n",
       "      <td>3866.85520</td>\n",
       "    </tr>\n",
       "    <tr>\n",
       "      <th>...</th>\n",
       "      <td>...</td>\n",
       "      <td>...</td>\n",
       "      <td>...</td>\n",
       "      <td>...</td>\n",
       "      <td>...</td>\n",
       "      <td>...</td>\n",
       "      <td>...</td>\n",
       "    </tr>\n",
       "    <tr>\n",
       "      <th>1333</th>\n",
       "      <td>50</td>\n",
       "      <td>male</td>\n",
       "      <td>30.970</td>\n",
       "      <td>3</td>\n",
       "      <td>no</td>\n",
       "      <td>northwest</td>\n",
       "      <td>10600.54830</td>\n",
       "    </tr>\n",
       "    <tr>\n",
       "      <th>1334</th>\n",
       "      <td>18</td>\n",
       "      <td>female</td>\n",
       "      <td>31.920</td>\n",
       "      <td>0</td>\n",
       "      <td>no</td>\n",
       "      <td>northeast</td>\n",
       "      <td>2205.98080</td>\n",
       "    </tr>\n",
       "    <tr>\n",
       "      <th>1335</th>\n",
       "      <td>18</td>\n",
       "      <td>female</td>\n",
       "      <td>NaN</td>\n",
       "      <td>0</td>\n",
       "      <td>no</td>\n",
       "      <td>southeast</td>\n",
       "      <td>1629.83350</td>\n",
       "    </tr>\n",
       "    <tr>\n",
       "      <th>1336</th>\n",
       "      <td>21</td>\n",
       "      <td>female</td>\n",
       "      <td>25.800</td>\n",
       "      <td>0</td>\n",
       "      <td>no</td>\n",
       "      <td>southwest</td>\n",
       "      <td>2007.94500</td>\n",
       "    </tr>\n",
       "    <tr>\n",
       "      <th>1337</th>\n",
       "      <td>61</td>\n",
       "      <td>female</td>\n",
       "      <td>29.070</td>\n",
       "      <td>0</td>\n",
       "      <td>yes</td>\n",
       "      <td>northwest</td>\n",
       "      <td>29141.36030</td>\n",
       "    </tr>\n",
       "  </tbody>\n",
       "</table>\n",
       "<p>1338 rows × 7 columns</p>\n",
       "</div>"
      ],
      "text/plain": [
       "      age     sex     bmi  children smoker     region      charges\n",
       "0      19  female  27.900         0    yes  southwest  16884.92400\n",
       "1      18    male  33.770         1     no  southeast   1725.55230\n",
       "2      28    male  33.000         3     no  southeast   4449.46200\n",
       "3      33    male  22.705         0     no  northwest  21984.47061\n",
       "4      32    male  28.880         0     no  northwest   3866.85520\n",
       "...   ...     ...     ...       ...    ...        ...          ...\n",
       "1333   50    male  30.970         3     no  northwest  10600.54830\n",
       "1334   18  female  31.920         0     no  northeast   2205.98080\n",
       "1335   18  female     NaN         0     no  southeast   1629.83350\n",
       "1336   21  female  25.800         0     no  southwest   2007.94500\n",
       "1337   61  female  29.070         0    yes  northwest  29141.36030\n",
       "\n",
       "[1338 rows x 7 columns]"
      ]
     },
     "execution_count": 2,
     "metadata": {},
     "output_type": "execute_result"
    }
   ],
   "source": [
    "data = pd.read_csv('insurance.csv')\n",
    "data"
   ]
  },
  {
   "cell_type": "code",
   "execution_count": 3,
   "id": "32f64b9c",
   "metadata": {},
   "outputs": [
    {
     "data": {
      "text/html": [
       "<div>\n",
       "<style scoped>\n",
       "    .dataframe tbody tr th:only-of-type {\n",
       "        vertical-align: middle;\n",
       "    }\n",
       "\n",
       "    .dataframe tbody tr th {\n",
       "        vertical-align: top;\n",
       "    }\n",
       "\n",
       "    .dataframe thead th {\n",
       "        text-align: right;\n",
       "    }\n",
       "</style>\n",
       "<table border=\"1\" class=\"dataframe\">\n",
       "  <thead>\n",
       "    <tr style=\"text-align: right;\">\n",
       "      <th></th>\n",
       "      <th>age</th>\n",
       "      <th>bmi</th>\n",
       "      <th>children</th>\n",
       "      <th>charges</th>\n",
       "    </tr>\n",
       "  </thead>\n",
       "  <tbody>\n",
       "    <tr>\n",
       "      <th>count</th>\n",
       "      <td>1338.000000</td>\n",
       "      <td>1328.000000</td>\n",
       "      <td>1338.000000</td>\n",
       "      <td>1338.000000</td>\n",
       "    </tr>\n",
       "    <tr>\n",
       "      <th>mean</th>\n",
       "      <td>39.207025</td>\n",
       "      <td>30.670173</td>\n",
       "      <td>1.094918</td>\n",
       "      <td>13270.422265</td>\n",
       "    </tr>\n",
       "    <tr>\n",
       "      <th>std</th>\n",
       "      <td>14.049960</td>\n",
       "      <td>6.098275</td>\n",
       "      <td>1.205493</td>\n",
       "      <td>12110.011237</td>\n",
       "    </tr>\n",
       "    <tr>\n",
       "      <th>min</th>\n",
       "      <td>18.000000</td>\n",
       "      <td>15.960000</td>\n",
       "      <td>0.000000</td>\n",
       "      <td>1121.873900</td>\n",
       "    </tr>\n",
       "    <tr>\n",
       "      <th>25%</th>\n",
       "      <td>27.000000</td>\n",
       "      <td>26.272500</td>\n",
       "      <td>0.000000</td>\n",
       "      <td>4740.287150</td>\n",
       "    </tr>\n",
       "    <tr>\n",
       "      <th>50%</th>\n",
       "      <td>39.000000</td>\n",
       "      <td>30.380000</td>\n",
       "      <td>1.000000</td>\n",
       "      <td>9382.033000</td>\n",
       "    </tr>\n",
       "    <tr>\n",
       "      <th>75%</th>\n",
       "      <td>51.000000</td>\n",
       "      <td>34.700000</td>\n",
       "      <td>2.000000</td>\n",
       "      <td>16639.912515</td>\n",
       "    </tr>\n",
       "    <tr>\n",
       "      <th>max</th>\n",
       "      <td>64.000000</td>\n",
       "      <td>53.130000</td>\n",
       "      <td>5.000000</td>\n",
       "      <td>63770.428010</td>\n",
       "    </tr>\n",
       "  </tbody>\n",
       "</table>\n",
       "</div>"
      ],
      "text/plain": [
       "               age          bmi     children       charges\n",
       "count  1338.000000  1328.000000  1338.000000   1338.000000\n",
       "mean     39.207025    30.670173     1.094918  13270.422265\n",
       "std      14.049960     6.098275     1.205493  12110.011237\n",
       "min      18.000000    15.960000     0.000000   1121.873900\n",
       "25%      27.000000    26.272500     0.000000   4740.287150\n",
       "50%      39.000000    30.380000     1.000000   9382.033000\n",
       "75%      51.000000    34.700000     2.000000  16639.912515\n",
       "max      64.000000    53.130000     5.000000  63770.428010"
      ]
     },
     "execution_count": 3,
     "metadata": {},
     "output_type": "execute_result"
    }
   ],
   "source": [
    "data.describe()"
   ]
  },
  {
   "cell_type": "markdown",
   "id": "557a0ebc",
   "metadata": {},
   "source": [
    "# 1. Data Cleaning\n",
    "We calculate the percentage of missing values in BMI column and impute them using the median."
   ]
  },
  {
   "cell_type": "code",
   "execution_count": 4,
   "id": "105e67d9",
   "metadata": {},
   "outputs": [
    {
     "name": "stdout",
     "output_type": "stream",
     "text": [
      "<class 'pandas.core.frame.DataFrame'>\n",
      "RangeIndex: 1338 entries, 0 to 1337\n",
      "Data columns (total 7 columns):\n",
      " #   Column    Non-Null Count  Dtype  \n",
      "---  ------    --------------  -----  \n",
      " 0   age       1338 non-null   int64  \n",
      " 1   sex       1334 non-null   object \n",
      " 2   bmi       1328 non-null   float64\n",
      " 3   children  1338 non-null   int64  \n",
      " 4   smoker    1338 non-null   object \n",
      " 5   region    1338 non-null   object \n",
      " 6   charges   1338 non-null   float64\n",
      "dtypes: float64(2), int64(2), object(3)\n",
      "memory usage: 73.3+ KB\n"
     ]
    }
   ],
   "source": [
    "data.info()"
   ]
  },
  {
   "cell_type": "code",
   "execution_count": 5,
   "id": "8318e601",
   "metadata": {},
   "outputs": [
    {
     "data": {
      "text/plain": [
       "age          0\n",
       "sex          4\n",
       "bmi         10\n",
       "children     0\n",
       "smoker       0\n",
       "region       0\n",
       "charges      0\n",
       "dtype: int64"
      ]
     },
     "execution_count": 5,
     "metadata": {},
     "output_type": "execute_result"
    }
   ],
   "source": [
    "data.isna().sum()"
   ]
  },
  {
   "cell_type": "markdown",
   "id": "dc4a52f9",
   "metadata": {},
   "source": [
    "total 14 null values; 4 in sex column, & 10 in BMI column observed."
   ]
  },
  {
   "cell_type": "code",
   "execution_count": 6,
   "id": "37be1b87",
   "metadata": {},
   "outputs": [
    {
     "data": {
      "text/plain": [
       "<Axes: >"
      ]
     },
     "execution_count": 6,
     "metadata": {},
     "output_type": "execute_result"
    },
    {
     "data": {
      "image/png": "[encoded data removed]",
      "text/plain": [
       "<Figure size 640x480 with 2 Axes>"
      ]
     },
     "metadata": {},
     "output_type": "display_data"
    }
   ],
   "source": [
    "import seaborn as sns\n",
    "sns.heatmap(data.isna()) #white lines= null"
   ]
  },
  {
   "cell_type": "code",
   "execution_count": 7,
   "id": "c5688c02",
   "metadata": {},
   "outputs": [],
   "source": [
    "# % of null values\n",
    "#i/total *100"
   ]
  },
  {
   "cell_type": "code",
   "execution_count": 8,
   "id": "1540291f",
   "metadata": {
    "scrolled": true
   },
   "outputs": [
    {
     "data": {
      "text/plain": [
       "1338"
      ]
     },
     "execution_count": 8,
     "metadata": {},
     "output_type": "execute_result"
    }
   ],
   "source": [
    "len(data)"
   ]
  },
  {
   "cell_type": "code",
   "execution_count": 9,
   "id": "5e94d6a6",
   "metadata": {},
   "outputs": [
    {
     "name": "stdout",
     "output_type": "stream",
     "text": [
      "0.0\n",
      "0.29895366218236175\n",
      "0.7473841554559043\n",
      "0.0\n",
      "0.0\n",
      "0.0\n",
      "0.0\n"
     ]
    }
   ],
   "source": [
    "for i in data.isna().sum():\n",
    "    print((i/len(data))*100)"
   ]
  },
  {
   "cell_type": "markdown",
   "id": "90fcef17",
   "metadata": {},
   "source": [
    "0.74% of BMI column is null. "
   ]
  },
  {
   "cell_type": "code",
   "execution_count": 10,
   "id": "72f58715",
   "metadata": {},
   "outputs": [
    {
     "data": {
      "text/plain": [
       "30.38"
      ]
     },
     "execution_count": 10,
     "metadata": {},
     "output_type": "execute_result"
    }
   ],
   "source": [
    "#median of bmi column\n",
    "bmi_median = data['bmi'].median()\n",
    "bmi_median"
   ]
  },
  {
   "cell_type": "code",
   "execution_count": 11,
   "id": "c3ede0c7",
   "metadata": {
    "scrolled": true
   },
   "outputs": [
    {
     "name": "stderr",
     "output_type": "stream",
     "text": [
      "C:\\Users\\Nidhi\\AppData\\Local\\Temp\\ipykernel_5052\\2150382104.py:2: FutureWarning: A value is trying to be set on a copy of a DataFrame or Series through chained assignment using an inplace method.\n",
      "The behavior will change in pandas 3.0. This inplace method will never work because the intermediate object on which we are setting values always behaves as a copy.\n",
      "\n",
      "For example, when doing 'df[col].method(value, inplace=True)', try using 'df.method({col: value}, inplace=True)' or df[col] = df[col].method(value) instead, to perform the operation inplace on the original object.\n",
      "\n",
      "\n",
      "  data['bmi'].fillna(bmi_median, inplace = True)\n"
     ]
    }
   ],
   "source": [
    "#replacing null with median\n",
    "data['bmi'].fillna(bmi_median, inplace = True)"
   ]
  },
  {
   "cell_type": "code",
   "execution_count": 12,
   "id": "d88f44a2",
   "metadata": {},
   "outputs": [
    {
     "data": {
      "text/plain": [
       "age         0\n",
       "sex         4\n",
       "bmi         0\n",
       "children    0\n",
       "smoker      0\n",
       "region      0\n",
       "charges     0\n",
       "dtype: int64"
      ]
     },
     "execution_count": 12,
     "metadata": {},
     "output_type": "execute_result"
    }
   ],
   "source": [
    "data.isna().sum()"
   ]
  },
  {
   "cell_type": "markdown",
   "id": "d3cbf019",
   "metadata": {},
   "source": [
    "no null values in bmi column observed."
   ]
  },
  {
   "cell_type": "markdown",
   "id": "e6534a03",
   "metadata": {},
   "source": [
    "# 2. EDA - Correlation Matrix\n",
    "We compute the Pearson correlation between charges and all other numeric variables (age, BMI, children). And then find out which variable has the strongest linear relationship with charges."
   ]
  },
  {
   "cell_type": "code",
   "execution_count": 13,
   "id": "a61969bd",
   "metadata": {
    "scrolled": true
   },
   "outputs": [
    {
     "data": {
      "text/html": [
       "<div>\n",
       "<style scoped>\n",
       "    .dataframe tbody tr th:only-of-type {\n",
       "        vertical-align: middle;\n",
       "    }\n",
       "\n",
       "    .dataframe tbody tr th {\n",
       "        vertical-align: top;\n",
       "    }\n",
       "\n",
       "    .dataframe thead th {\n",
       "        text-align: right;\n",
       "    }\n",
       "</style>\n",
       "<table border=\"1\" class=\"dataframe\">\n",
       "  <thead>\n",
       "    <tr style=\"text-align: right;\">\n",
       "      <th></th>\n",
       "      <th>age</th>\n",
       "      <th>bmi</th>\n",
       "      <th>children</th>\n",
       "      <th>charges</th>\n",
       "    </tr>\n",
       "  </thead>\n",
       "  <tbody>\n",
       "    <tr>\n",
       "      <th>age</th>\n",
       "      <td>1.000000</td>\n",
       "      <td>0.109333</td>\n",
       "      <td>0.042469</td>\n",
       "      <td>0.299008</td>\n",
       "    </tr>\n",
       "    <tr>\n",
       "      <th>bmi</th>\n",
       "      <td>0.109333</td>\n",
       "      <td>1.000000</td>\n",
       "      <td>0.009610</td>\n",
       "      <td>0.197977</td>\n",
       "    </tr>\n",
       "    <tr>\n",
       "      <th>children</th>\n",
       "      <td>0.042469</td>\n",
       "      <td>0.009610</td>\n",
       "      <td>1.000000</td>\n",
       "      <td>0.067998</td>\n",
       "    </tr>\n",
       "    <tr>\n",
       "      <th>charges</th>\n",
       "      <td>0.299008</td>\n",
       "      <td>0.197977</td>\n",
       "      <td>0.067998</td>\n",
       "      <td>1.000000</td>\n",
       "    </tr>\n",
       "  </tbody>\n",
       "</table>\n",
       "</div>"
      ],
      "text/plain": [
       "               age       bmi  children   charges\n",
       "age       1.000000  0.109333  0.042469  0.299008\n",
       "bmi       0.109333  1.000000  0.009610  0.197977\n",
       "children  0.042469  0.009610  1.000000  0.067998\n",
       "charges   0.299008  0.197977  0.067998  1.000000"
      ]
     },
     "execution_count": 13,
     "metadata": {},
     "output_type": "execute_result"
    }
   ],
   "source": [
    "#pearson correlation of all numeric columns \n",
    "corr_mat = data.corr(method='pearson', numeric_only=True)\n",
    "corr_mat"
   ]
  },
  {
   "cell_type": "code",
   "execution_count": 14,
   "id": "1ee3f17f",
   "metadata": {
    "scrolled": false
   },
   "outputs": [
    {
     "data": {
      "text/plain": [
       "<Axes: >"
      ]
     },
     "execution_count": 14,
     "metadata": {},
     "output_type": "execute_result"
    },
    {
     "data": {
      "image/png": "[encoded data removed]",
      "text/plain": [
       "<Figure size 640x480 with 2 Axes>"
      ]
     },
     "metadata": {},
     "output_type": "display_data"
    }
   ],
   "source": [
    "#heatmap of correlations of all numeric columns \n",
    "sns.heatmap(corr_mat, annot=True)"
   ]
  },
  {
   "cell_type": "markdown",
   "id": "3aea081c",
   "metadata": {},
   "source": [
    "since the absolute value of relationship of age is closer to 1 compared to other numeric columns with charges, we can already see that age has the strongest linear relationship with charges (excluding charges with itself)."
   ]
  },
  {
   "cell_type": "code",
   "execution_count": 15,
   "id": "1aba0825",
   "metadata": {
    "scrolled": false
   },
   "outputs": [
    {
     "name": "stdout",
     "output_type": "stream",
     "text": [
      "\n",
      "Correlations of charges:\n",
      "age         0.299008\n",
      "bmi         0.197977\n",
      "children    0.067998\n",
      "Name: charges, dtype: float64\n",
      "\n"
     ]
    }
   ],
   "source": [
    "#correlation of charges with other numeric columns\n",
    "charges_corr = corr_mat['charges'].drop('charges', errors='ignore')\n",
    "print(f\"\\nCorrelations of charges:\\n{charges_corr}\\n\")"
   ]
  },
  {
   "cell_type": "code",
   "execution_count": 16,
   "id": "8297f738",
   "metadata": {
    "scrolled": true
   },
   "outputs": [
    {
     "name": "stdout",
     "output_type": "stream",
     "text": [
      "Absolute Correlations of charges with other numeric vars:\n",
      " age         0.299008\n",
      "bmi         0.197977\n",
      "children    0.067998\n",
      "Name: charges, dtype: float64\n"
     ]
    }
   ],
   "source": [
    "absolute_corr = charges_corr.abs()\n",
    "print(\"Absolute Correlations of charges with other numeric vars:\\n\", absolute_corr)"
   ]
  },
  {
   "cell_type": "code",
   "execution_count": 17,
   "id": "767a61a3",
   "metadata": {},
   "outputs": [
    {
     "name": "stdout",
     "output_type": "stream",
     "text": [
      "\n",
      "The variable with the strongest linear relationship with 'charges' is: 'age'\n",
      "Its correlation coefficient is: 0.299008193330648\n"
     ]
    }
   ],
   "source": [
    "strongest_var = absolute_corr.idxmax() #the one with max index\n",
    "strength_value = charges_corr[strongest_var]\n",
    "\n",
    "print(f\"\\nThe variable with the strongest linear relationship with 'charges' is: '{strongest_var}'\")\n",
    "print(f\"Its correlation coefficient is: {strength_value:}\") "
   ]
  },
  {
   "cell_type": "markdown",
   "id": "1a58ada8",
   "metadata": {},
   "source": [
    "# 3. Feature Engineering\n",
    "After one-hot encoding the smoker and region columns, we find out how many total features are present in the dataset."
   ]
  },
  {
   "cell_type": "code",
   "execution_count": 18,
   "id": "e927883f",
   "metadata": {},
   "outputs": [],
   "source": [
    "from sklearn.preprocessing import OneHotEncoder"
   ]
  },
  {
   "cell_type": "code",
   "execution_count": 19,
   "id": "ec7d94cf",
   "metadata": {},
   "outputs": [
    {
     "name": "stdout",
     "output_type": "stream",
     "text": [
      "\n",
      "Original DataFrame columns: ['age', 'sex', 'bmi', 'children', 'smoker', 'region', 'charges']\n",
      "Original number of features: 7\n"
     ]
    }
   ],
   "source": [
    "print(\"\\nOriginal DataFrame columns:\", data.columns.tolist())\n",
    "print(\"Original number of features:\", len(data.columns))"
   ]
  },
  {
   "cell_type": "code",
   "execution_count": 20,
   "id": "83cd5ad3",
   "metadata": {},
   "outputs": [],
   "source": [
    "encode_cols = ['smoker', 'region']\n",
    "\n",
    "encoder = OneHotEncoder(handle_unknown='ignore', sparse_output = False)\n",
    "#ignore unseen categories in future and return numpy array\n",
    "\n",
    "#fit \n",
    "OHE_data = encoder.fit_transform(data[encode_cols])\n",
    "\n",
    "#feature names\n",
    "OHE_features = encoder.get_feature_names_out(encode_cols)"
   ]
  },
  {
   "cell_type": "code",
   "execution_count": 21,
   "id": "29f19710",
   "metadata": {
    "scrolled": true
   },
   "outputs": [
    {
     "data": {
      "text/plain": [
       "array([[0., 1., 0., 0., 0., 1.],\n",
       "       [1., 0., 0., 0., 1., 0.],\n",
       "       [1., 0., 0., 0., 1., 0.],\n",
       "       ...,\n",
       "       [1., 0., 0., 0., 1., 0.],\n",
       "       [1., 0., 0., 0., 0., 1.],\n",
       "       [0., 1., 0., 1., 0., 0.]])"
      ]
     },
     "execution_count": 21,
     "metadata": {},
     "output_type": "execute_result"
    }
   ],
   "source": [
    "OHE_data"
   ]
  },
  {
   "cell_type": "code",
   "execution_count": 22,
   "id": "118c01f6",
   "metadata": {},
   "outputs": [
    {
     "name": "stdout",
     "output_type": "stream",
     "text": [
      "new features: ['smoker_no' 'smoker_yes' 'region_northeast' 'region_northwest'\n",
      " 'region_southeast' 'region_southwest']\n",
      "\n",
      " new number of features: 6\n",
      "\n",
      " new total number of features: 11\n"
     ]
    }
   ],
   "source": [
    "print(\"new features:\", OHE_features)\n",
    "print(\"\\n new number of features:\", len(OHE_features))\n",
    "print(\"\\n new total number of features:\", len(OHE_features)+len(data.columns)-2)#2 for smoking and region"
   ]
  },
  {
   "cell_type": "code",
   "execution_count": 23,
   "id": "bcfb7e84",
   "metadata": {},
   "outputs": [
    {
     "data": {
      "text/html": [
       "<div>\n",
       "<style scoped>\n",
       "    .dataframe tbody tr th:only-of-type {\n",
       "        vertical-align: middle;\n",
       "    }\n",
       "\n",
       "    .dataframe tbody tr th {\n",
       "        vertical-align: top;\n",
       "    }\n",
       "\n",
       "    .dataframe thead th {\n",
       "        text-align: right;\n",
       "    }\n",
       "</style>\n",
       "<table border=\"1\" class=\"dataframe\">\n",
       "  <thead>\n",
       "    <tr style=\"text-align: right;\">\n",
       "      <th></th>\n",
       "      <th>smoker_no</th>\n",
       "      <th>smoker_yes</th>\n",
       "      <th>region_northeast</th>\n",
       "      <th>region_northwest</th>\n",
       "      <th>region_southeast</th>\n",
       "      <th>region_southwest</th>\n",
       "    </tr>\n",
       "  </thead>\n",
       "  <tbody>\n",
       "    <tr>\n",
       "      <th>0</th>\n",
       "      <td>0.0</td>\n",
       "      <td>1.0</td>\n",
       "      <td>0.0</td>\n",
       "      <td>0.0</td>\n",
       "      <td>0.0</td>\n",
       "      <td>1.0</td>\n",
       "    </tr>\n",
       "    <tr>\n",
       "      <th>1</th>\n",
       "      <td>1.0</td>\n",
       "      <td>0.0</td>\n",
       "      <td>0.0</td>\n",
       "      <td>0.0</td>\n",
       "      <td>1.0</td>\n",
       "      <td>0.0</td>\n",
       "    </tr>\n",
       "    <tr>\n",
       "      <th>2</th>\n",
       "      <td>1.0</td>\n",
       "      <td>0.0</td>\n",
       "      <td>0.0</td>\n",
       "      <td>0.0</td>\n",
       "      <td>1.0</td>\n",
       "      <td>0.0</td>\n",
       "    </tr>\n",
       "    <tr>\n",
       "      <th>3</th>\n",
       "      <td>1.0</td>\n",
       "      <td>0.0</td>\n",
       "      <td>0.0</td>\n",
       "      <td>1.0</td>\n",
       "      <td>0.0</td>\n",
       "      <td>0.0</td>\n",
       "    </tr>\n",
       "    <tr>\n",
       "      <th>4</th>\n",
       "      <td>1.0</td>\n",
       "      <td>0.0</td>\n",
       "      <td>0.0</td>\n",
       "      <td>1.0</td>\n",
       "      <td>0.0</td>\n",
       "      <td>0.0</td>\n",
       "    </tr>\n",
       "    <tr>\n",
       "      <th>...</th>\n",
       "      <td>...</td>\n",
       "      <td>...</td>\n",
       "      <td>...</td>\n",
       "      <td>...</td>\n",
       "      <td>...</td>\n",
       "      <td>...</td>\n",
       "    </tr>\n",
       "    <tr>\n",
       "      <th>1333</th>\n",
       "      <td>1.0</td>\n",
       "      <td>0.0</td>\n",
       "      <td>0.0</td>\n",
       "      <td>1.0</td>\n",
       "      <td>0.0</td>\n",
       "      <td>0.0</td>\n",
       "    </tr>\n",
       "    <tr>\n",
       "      <th>1334</th>\n",
       "      <td>1.0</td>\n",
       "      <td>0.0</td>\n",
       "      <td>1.0</td>\n",
       "      <td>0.0</td>\n",
       "      <td>0.0</td>\n",
       "      <td>0.0</td>\n",
       "    </tr>\n",
       "    <tr>\n",
       "      <th>1335</th>\n",
       "      <td>1.0</td>\n",
       "      <td>0.0</td>\n",
       "      <td>0.0</td>\n",
       "      <td>0.0</td>\n",
       "      <td>1.0</td>\n",
       "      <td>0.0</td>\n",
       "    </tr>\n",
       "    <tr>\n",
       "      <th>1336</th>\n",
       "      <td>1.0</td>\n",
       "      <td>0.0</td>\n",
       "      <td>0.0</td>\n",
       "      <td>0.0</td>\n",
       "      <td>0.0</td>\n",
       "      <td>1.0</td>\n",
       "    </tr>\n",
       "    <tr>\n",
       "      <th>1337</th>\n",
       "      <td>0.0</td>\n",
       "      <td>1.0</td>\n",
       "      <td>0.0</td>\n",
       "      <td>1.0</td>\n",
       "      <td>0.0</td>\n",
       "      <td>0.0</td>\n",
       "    </tr>\n",
       "  </tbody>\n",
       "</table>\n",
       "<p>1338 rows × 6 columns</p>\n",
       "</div>"
      ],
      "text/plain": [
       "      smoker_no  smoker_yes  region_northeast  region_northwest  \\\n",
       "0           0.0         1.0               0.0               0.0   \n",
       "1           1.0         0.0               0.0               0.0   \n",
       "2           1.0         0.0               0.0               0.0   \n",
       "3           1.0         0.0               0.0               1.0   \n",
       "4           1.0         0.0               0.0               1.0   \n",
       "...         ...         ...               ...               ...   \n",
       "1333        1.0         0.0               0.0               1.0   \n",
       "1334        1.0         0.0               1.0               0.0   \n",
       "1335        1.0         0.0               0.0               0.0   \n",
       "1336        1.0         0.0               0.0               0.0   \n",
       "1337        0.0         1.0               0.0               1.0   \n",
       "\n",
       "      region_southeast  region_southwest  \n",
       "0                  0.0               1.0  \n",
       "1                  1.0               0.0  \n",
       "2                  1.0               0.0  \n",
       "3                  0.0               0.0  \n",
       "4                  0.0               0.0  \n",
       "...                ...               ...  \n",
       "1333               0.0               0.0  \n",
       "1334               0.0               0.0  \n",
       "1335               1.0               0.0  \n",
       "1336               0.0               1.0  \n",
       "1337               0.0               0.0  \n",
       "\n",
       "[1338 rows x 6 columns]"
      ]
     },
     "execution_count": 23,
     "metadata": {},
     "output_type": "execute_result"
    }
   ],
   "source": [
    "#new dataframe\n",
    "encoded_df = pd.DataFrame(OHE_data, columns=OHE_features, index=data.index)\n",
    "\n",
    "encoded_df"
   ]
  },
  {
   "cell_type": "code",
   "execution_count": 24,
   "id": "ed81a94d",
   "metadata": {
    "scrolled": true
   },
   "outputs": [
    {
     "data": {
      "text/html": [
       "<div>\n",
       "<style scoped>\n",
       "    .dataframe tbody tr th:only-of-type {\n",
       "        vertical-align: middle;\n",
       "    }\n",
       "\n",
       "    .dataframe tbody tr th {\n",
       "        vertical-align: top;\n",
       "    }\n",
       "\n",
       "    .dataframe thead th {\n",
       "        text-align: right;\n",
       "    }\n",
       "</style>\n",
       "<table border=\"1\" class=\"dataframe\">\n",
       "  <thead>\n",
       "    <tr style=\"text-align: right;\">\n",
       "      <th></th>\n",
       "      <th>age</th>\n",
       "      <th>sex</th>\n",
       "      <th>bmi</th>\n",
       "      <th>children</th>\n",
       "      <th>charges</th>\n",
       "    </tr>\n",
       "  </thead>\n",
       "  <tbody>\n",
       "    <tr>\n",
       "      <th>0</th>\n",
       "      <td>19</td>\n",
       "      <td>female</td>\n",
       "      <td>27.900</td>\n",
       "      <td>0</td>\n",
       "      <td>16884.92400</td>\n",
       "    </tr>\n",
       "    <tr>\n",
       "      <th>1</th>\n",
       "      <td>18</td>\n",
       "      <td>male</td>\n",
       "      <td>33.770</td>\n",
       "      <td>1</td>\n",
       "      <td>1725.55230</td>\n",
       "    </tr>\n",
       "    <tr>\n",
       "      <th>2</th>\n",
       "      <td>28</td>\n",
       "      <td>male</td>\n",
       "      <td>33.000</td>\n",
       "      <td>3</td>\n",
       "      <td>4449.46200</td>\n",
       "    </tr>\n",
       "    <tr>\n",
       "      <th>3</th>\n",
       "      <td>33</td>\n",
       "      <td>male</td>\n",
       "      <td>22.705</td>\n",
       "      <td>0</td>\n",
       "      <td>21984.47061</td>\n",
       "    </tr>\n",
       "    <tr>\n",
       "      <th>4</th>\n",
       "      <td>32</td>\n",
       "      <td>male</td>\n",
       "      <td>28.880</td>\n",
       "      <td>0</td>\n",
       "      <td>3866.85520</td>\n",
       "    </tr>\n",
       "    <tr>\n",
       "      <th>...</th>\n",
       "      <td>...</td>\n",
       "      <td>...</td>\n",
       "      <td>...</td>\n",
       "      <td>...</td>\n",
       "      <td>...</td>\n",
       "    </tr>\n",
       "    <tr>\n",
       "      <th>1333</th>\n",
       "      <td>50</td>\n",
       "      <td>male</td>\n",
       "      <td>30.970</td>\n",
       "      <td>3</td>\n",
       "      <td>10600.54830</td>\n",
       "    </tr>\n",
       "    <tr>\n",
       "      <th>1334</th>\n",
       "      <td>18</td>\n",
       "      <td>female</td>\n",
       "      <td>31.920</td>\n",
       "      <td>0</td>\n",
       "      <td>2205.98080</td>\n",
       "    </tr>\n",
       "    <tr>\n",
       "      <th>1335</th>\n",
       "      <td>18</td>\n",
       "      <td>female</td>\n",
       "      <td>30.380</td>\n",
       "      <td>0</td>\n",
       "      <td>1629.83350</td>\n",
       "    </tr>\n",
       "    <tr>\n",
       "      <th>1336</th>\n",
       "      <td>21</td>\n",
       "      <td>female</td>\n",
       "      <td>25.800</td>\n",
       "      <td>0</td>\n",
       "      <td>2007.94500</td>\n",
       "    </tr>\n",
       "    <tr>\n",
       "      <th>1337</th>\n",
       "      <td>61</td>\n",
       "      <td>female</td>\n",
       "      <td>29.070</td>\n",
       "      <td>0</td>\n",
       "      <td>29141.36030</td>\n",
       "    </tr>\n",
       "  </tbody>\n",
       "</table>\n",
       "<p>1338 rows × 5 columns</p>\n",
       "</div>"
      ],
      "text/plain": [
       "      age     sex     bmi  children      charges\n",
       "0      19  female  27.900         0  16884.92400\n",
       "1      18    male  33.770         1   1725.55230\n",
       "2      28    male  33.000         3   4449.46200\n",
       "3      33    male  22.705         0  21984.47061\n",
       "4      32    male  28.880         0   3866.85520\n",
       "...   ...     ...     ...       ...          ...\n",
       "1333   50    male  30.970         3  10600.54830\n",
       "1334   18  female  31.920         0   2205.98080\n",
       "1335   18  female  30.380         0   1629.83350\n",
       "1336   21  female  25.800         0   2007.94500\n",
       "1337   61  female  29.070         0  29141.36030\n",
       "\n",
       "[1338 rows x 5 columns]"
      ]
     },
     "execution_count": 24,
     "metadata": {},
     "output_type": "execute_result"
    }
   ],
   "source": [
    "#drop original columns\n",
    "processed_df = data.drop(columns=encode_cols)\n",
    "\n",
    "processed_df"
   ]
  },
  {
   "cell_type": "code",
   "execution_count": 25,
   "id": "e994f6fc",
   "metadata": {},
   "outputs": [
    {
     "data": {
      "text/html": [
       "<div>\n",
       "<style scoped>\n",
       "    .dataframe tbody tr th:only-of-type {\n",
       "        vertical-align: middle;\n",
       "    }\n",
       "\n",
       "    .dataframe tbody tr th {\n",
       "        vertical-align: top;\n",
       "    }\n",
       "\n",
       "    .dataframe thead th {\n",
       "        text-align: right;\n",
       "    }\n",
       "</style>\n",
       "<table border=\"1\" class=\"dataframe\">\n",
       "  <thead>\n",
       "    <tr style=\"text-align: right;\">\n",
       "      <th></th>\n",
       "      <th>age</th>\n",
       "      <th>sex</th>\n",
       "      <th>bmi</th>\n",
       "      <th>children</th>\n",
       "      <th>charges</th>\n",
       "      <th>smoker_no</th>\n",
       "      <th>smoker_yes</th>\n",
       "      <th>region_northeast</th>\n",
       "      <th>region_northwest</th>\n",
       "      <th>region_southeast</th>\n",
       "      <th>region_southwest</th>\n",
       "    </tr>\n",
       "  </thead>\n",
       "  <tbody>\n",
       "    <tr>\n",
       "      <th>0</th>\n",
       "      <td>19</td>\n",
       "      <td>female</td>\n",
       "      <td>27.900</td>\n",
       "      <td>0</td>\n",
       "      <td>16884.92400</td>\n",
       "      <td>0.0</td>\n",
       "      <td>1.0</td>\n",
       "      <td>0.0</td>\n",
       "      <td>0.0</td>\n",
       "      <td>0.0</td>\n",
       "      <td>1.0</td>\n",
       "    </tr>\n",
       "    <tr>\n",
       "      <th>1</th>\n",
       "      <td>18</td>\n",
       "      <td>male</td>\n",
       "      <td>33.770</td>\n",
       "      <td>1</td>\n",
       "      <td>1725.55230</td>\n",
       "      <td>1.0</td>\n",
       "      <td>0.0</td>\n",
       "      <td>0.0</td>\n",
       "      <td>0.0</td>\n",
       "      <td>1.0</td>\n",
       "      <td>0.0</td>\n",
       "    </tr>\n",
       "    <tr>\n",
       "      <th>2</th>\n",
       "      <td>28</td>\n",
       "      <td>male</td>\n",
       "      <td>33.000</td>\n",
       "      <td>3</td>\n",
       "      <td>4449.46200</td>\n",
       "      <td>1.0</td>\n",
       "      <td>0.0</td>\n",
       "      <td>0.0</td>\n",
       "      <td>0.0</td>\n",
       "      <td>1.0</td>\n",
       "      <td>0.0</td>\n",
       "    </tr>\n",
       "    <tr>\n",
       "      <th>3</th>\n",
       "      <td>33</td>\n",
       "      <td>male</td>\n",
       "      <td>22.705</td>\n",
       "      <td>0</td>\n",
       "      <td>21984.47061</td>\n",
       "      <td>1.0</td>\n",
       "      <td>0.0</td>\n",
       "      <td>0.0</td>\n",
       "      <td>1.0</td>\n",
       "      <td>0.0</td>\n",
       "      <td>0.0</td>\n",
       "    </tr>\n",
       "    <tr>\n",
       "      <th>4</th>\n",
       "      <td>32</td>\n",
       "      <td>male</td>\n",
       "      <td>28.880</td>\n",
       "      <td>0</td>\n",
       "      <td>3866.85520</td>\n",
       "      <td>1.0</td>\n",
       "      <td>0.0</td>\n",
       "      <td>0.0</td>\n",
       "      <td>1.0</td>\n",
       "      <td>0.0</td>\n",
       "      <td>0.0</td>\n",
       "    </tr>\n",
       "    <tr>\n",
       "      <th>...</th>\n",
       "      <td>...</td>\n",
       "      <td>...</td>\n",
       "      <td>...</td>\n",
       "      <td>...</td>\n",
       "      <td>...</td>\n",
       "      <td>...</td>\n",
       "      <td>...</td>\n",
       "      <td>...</td>\n",
       "      <td>...</td>\n",
       "      <td>...</td>\n",
       "      <td>...</td>\n",
       "    </tr>\n",
       "    <tr>\n",
       "      <th>1333</th>\n",
       "      <td>50</td>\n",
       "      <td>male</td>\n",
       "      <td>30.970</td>\n",
       "      <td>3</td>\n",
       "      <td>10600.54830</td>\n",
       "      <td>1.0</td>\n",
       "      <td>0.0</td>\n",
       "      <td>0.0</td>\n",
       "      <td>1.0</td>\n",
       "      <td>0.0</td>\n",
       "      <td>0.0</td>\n",
       "    </tr>\n",
       "    <tr>\n",
       "      <th>1334</th>\n",
       "      <td>18</td>\n",
       "      <td>female</td>\n",
       "      <td>31.920</td>\n",
       "      <td>0</td>\n",
       "      <td>2205.98080</td>\n",
       "      <td>1.0</td>\n",
       "      <td>0.0</td>\n",
       "      <td>1.0</td>\n",
       "      <td>0.0</td>\n",
       "      <td>0.0</td>\n",
       "      <td>0.0</td>\n",
       "    </tr>\n",
       "    <tr>\n",
       "      <th>1335</th>\n",
       "      <td>18</td>\n",
       "      <td>female</td>\n",
       "      <td>30.380</td>\n",
       "      <td>0</td>\n",
       "      <td>1629.83350</td>\n",
       "      <td>1.0</td>\n",
       "      <td>0.0</td>\n",
       "      <td>0.0</td>\n",
       "      <td>0.0</td>\n",
       "      <td>1.0</td>\n",
       "      <td>0.0</td>\n",
       "    </tr>\n",
       "    <tr>\n",
       "      <th>1336</th>\n",
       "      <td>21</td>\n",
       "      <td>female</td>\n",
       "      <td>25.800</td>\n",
       "      <td>0</td>\n",
       "      <td>2007.94500</td>\n",
       "      <td>1.0</td>\n",
       "      <td>0.0</td>\n",
       "      <td>0.0</td>\n",
       "      <td>0.0</td>\n",
       "      <td>0.0</td>\n",
       "      <td>1.0</td>\n",
       "    </tr>\n",
       "    <tr>\n",
       "      <th>1337</th>\n",
       "      <td>61</td>\n",
       "      <td>female</td>\n",
       "      <td>29.070</td>\n",
       "      <td>0</td>\n",
       "      <td>29141.36030</td>\n",
       "      <td>0.0</td>\n",
       "      <td>1.0</td>\n",
       "      <td>0.0</td>\n",
       "      <td>1.0</td>\n",
       "      <td>0.0</td>\n",
       "      <td>0.0</td>\n",
       "    </tr>\n",
       "  </tbody>\n",
       "</table>\n",
       "<p>1338 rows × 11 columns</p>\n",
       "</div>"
      ],
      "text/plain": [
       "      age     sex     bmi  children      charges  smoker_no  smoker_yes  \\\n",
       "0      19  female  27.900         0  16884.92400        0.0         1.0   \n",
       "1      18    male  33.770         1   1725.55230        1.0         0.0   \n",
       "2      28    male  33.000         3   4449.46200        1.0         0.0   \n",
       "3      33    male  22.705         0  21984.47061        1.0         0.0   \n",
       "4      32    male  28.880         0   3866.85520        1.0         0.0   \n",
       "...   ...     ...     ...       ...          ...        ...         ...   \n",
       "1333   50    male  30.970         3  10600.54830        1.0         0.0   \n",
       "1334   18  female  31.920         0   2205.98080        1.0         0.0   \n",
       "1335   18  female  30.380         0   1629.83350        1.0         0.0   \n",
       "1336   21  female  25.800         0   2007.94500        1.0         0.0   \n",
       "1337   61  female  29.070         0  29141.36030        0.0         1.0   \n",
       "\n",
       "      region_northeast  region_northwest  region_southeast  region_southwest  \n",
       "0                  0.0               0.0               0.0               1.0  \n",
       "1                  0.0               0.0               1.0               0.0  \n",
       "2                  0.0               0.0               1.0               0.0  \n",
       "3                  0.0               1.0               0.0               0.0  \n",
       "4                  0.0               1.0               0.0               0.0  \n",
       "...                ...               ...               ...               ...  \n",
       "1333               0.0               1.0               0.0               0.0  \n",
       "1334               1.0               0.0               0.0               0.0  \n",
       "1335               0.0               0.0               1.0               0.0  \n",
       "1336               0.0               0.0               0.0               1.0  \n",
       "1337               0.0               1.0               0.0               0.0  \n",
       "\n",
       "[1338 rows x 11 columns]"
      ]
     },
     "execution_count": 25,
     "metadata": {},
     "output_type": "execute_result"
    }
   ],
   "source": [
    "#Concat processed df with new encoded df\n",
    "OHE_df = pd.concat([processed_df, encoded_df], axis=1)\n",
    "\n",
    "OHE_df"
   ]
  },
  {
   "cell_type": "code",
   "execution_count": 26,
   "id": "9e6922b9",
   "metadata": {},
   "outputs": [
    {
     "name": "stdout",
     "output_type": "stream",
     "text": [
      "\n",
      " Processed DataFrame head (after one-hot encoding):\n",
      "    age     sex     bmi  children      charges  smoker_no  smoker_yes  \\\n",
      "0   19  female  27.900         0  16884.92400        0.0         1.0   \n",
      "1   18    male  33.770         1   1725.55230        1.0         0.0   \n",
      "2   28    male  33.000         3   4449.46200        1.0         0.0   \n",
      "3   33    male  22.705         0  21984.47061        1.0         0.0   \n",
      "4   32    male  28.880         0   3866.85520        1.0         0.0   \n",
      "\n",
      "   region_northeast  region_northwest  region_southeast  region_southwest  \n",
      "0               0.0               0.0               0.0               1.0  \n",
      "1               0.0               0.0               1.0               0.0  \n",
      "2               0.0               0.0               1.0               0.0  \n",
      "3               0.0               1.0               0.0               0.0  \n",
      "4               0.0               1.0               0.0               0.0  \n",
      "\n",
      " Final DataFrame columns: ['age', 'sex', 'bmi', 'children', 'charges', 'smoker_no', 'smoker_yes', 'region_northeast', 'region_northwest', 'region_southeast', 'region_southwest']\n",
      "\n",
      " Final number of features: 11\n"
     ]
    }
   ],
   "source": [
    "print(\"\\n Processed DataFrame head (after one-hot encoding):\\n\", OHE_df.head())\n",
    "print(\"\\n Final DataFrame columns:\", OHE_df.columns.tolist())\n",
    "print(\"\\n Final number of features:\", len(OHE_df.columns))"
   ]
  },
  {
   "cell_type": "code",
   "execution_count": 27,
   "id": "cf511c6e",
   "metadata": {},
   "outputs": [
    {
     "name": "stdout",
     "output_type": "stream",
     "text": [
      "\n",
      " Original number of features: 7\n",
      "\n",
      " Final number of features: 11\n"
     ]
    }
   ],
   "source": [
    "print(\"\\n Original number of features:\", len(data.columns))\n",
    "print(\"\\n Final number of features:\", len(OHE_df.columns))"
   ]
  },
  {
   "cell_type": "markdown",
   "id": "d62b3cc3",
   "metadata": {},
   "source": [
    "# 4. Model Evaluation\n",
    "We apply a Linear Regression model and receive the following results:\n",
    "\n",
    "•\tMAE\n",
    "•\tMSE\n",
    "•\tRMSE\n",
    "\n",
    "and interpret what RMSE means in this context.\n"
   ]
  },
  {
   "cell_type": "code",
   "execution_count": 28,
   "id": "7c8b93f7",
   "metadata": {},
   "outputs": [],
   "source": [
    "from sklearn.model_selection import train_test_split\n",
    "from sklearn.linear_model import LinearRegression\n",
    "from sklearn.metrics import mean_absolute_error, mean_squared_error\n",
    "from sklearn.pipeline import Pipeline"
   ]
  },
  {
   "cell_type": "markdown",
   "id": "c05e07f4",
   "metadata": {},
   "source": [
    "NOTE:\n",
    "\n",
    "Directly used Encoded data with categorical columns already converted to float. \n",
    "Dropped sex column as it is in binary and has little to no impact on the charges column."
   ]
  },
  {
   "cell_type": "code",
   "execution_count": 29,
   "id": "a46835d1",
   "metadata": {},
   "outputs": [
    {
     "name": "stdout",
     "output_type": "stream",
     "text": [
      "(1338, 9) (1338,)\n"
     ]
    }
   ],
   "source": [
    "#split data\n",
    "X = OHE_df.drop(['charges', 'sex'], axis=1) #all other variables\n",
    "y = OHE_df['charges'] #target variable\n",
    "\n",
    "print(X.shape, y.shape)"
   ]
  },
  {
   "cell_type": "code",
   "execution_count": 30,
   "id": "910695d0",
   "metadata": {},
   "outputs": [
    {
     "name": "stdout",
     "output_type": "stream",
     "text": [
      "(735, 9) (735,) (603, 9) (603,)\n"
     ]
    }
   ],
   "source": [
    "X_train, X_test, y_train, y_test = train_test_split(X, y, test_size=0.45, random_state=45)\n",
    "#45% data used for testing\n",
    "print(X_train.shape, y_train.shape, X_test.shape, y_test.shape)"
   ]
  },
  {
   "cell_type": "code",
   "execution_count": 31,
   "id": "6d433a04",
   "metadata": {},
   "outputs": [
    {
     "data": {
      "text/plain": [
       "0.7216761305932"
      ]
     },
     "execution_count": 31,
     "metadata": {},
     "output_type": "execute_result"
    }
   ],
   "source": [
    "#linear regression model\n",
    "lin_reg = LinearRegression().fit(X_train, y_train)\n",
    "lin_reg.score(X_test, y_test)"
   ]
  },
  {
   "cell_type": "code",
   "execution_count": 32,
   "id": "ad85dfc2",
   "metadata": {},
   "outputs": [
    {
     "data": {
      "text/html": [
       "<div>\n",
       "<style scoped>\n",
       "    .dataframe tbody tr th:only-of-type {\n",
       "        vertical-align: middle;\n",
       "    }\n",
       "\n",
       "    .dataframe tbody tr th {\n",
       "        vertical-align: top;\n",
       "    }\n",
       "\n",
       "    .dataframe thead th {\n",
       "        text-align: right;\n",
       "    }\n",
       "</style>\n",
       "<table border=\"1\" class=\"dataframe\">\n",
       "  <thead>\n",
       "    <tr style=\"text-align: right;\">\n",
       "      <th></th>\n",
       "      <th>Actual</th>\n",
       "      <th>Predicted</th>\n",
       "    </tr>\n",
       "  </thead>\n",
       "  <tbody>\n",
       "    <tr>\n",
       "      <th>34</th>\n",
       "      <td>51194.55914</td>\n",
       "      <td>31681.842839</td>\n",
       "    </tr>\n",
       "    <tr>\n",
       "      <th>1148</th>\n",
       "      <td>10791.96000</td>\n",
       "      <td>9720.153430</td>\n",
       "    </tr>\n",
       "    <tr>\n",
       "      <th>669</th>\n",
       "      <td>6500.23590</td>\n",
       "      <td>8242.952678</td>\n",
       "    </tr>\n",
       "    <tr>\n",
       "      <th>225</th>\n",
       "      <td>11987.16820</td>\n",
       "      <td>14204.219994</td>\n",
       "    </tr>\n",
       "    <tr>\n",
       "      <th>382</th>\n",
       "      <td>20781.48892</td>\n",
       "      <td>12941.741602</td>\n",
       "    </tr>\n",
       "    <tr>\n",
       "      <th>789</th>\n",
       "      <td>13457.96080</td>\n",
       "      <td>13882.264035</td>\n",
       "    </tr>\n",
       "    <tr>\n",
       "      <th>780</th>\n",
       "      <td>18259.21600</td>\n",
       "      <td>29188.253826</td>\n",
       "    </tr>\n",
       "    <tr>\n",
       "      <th>230</th>\n",
       "      <td>7443.64305</td>\n",
       "      <td>10975.059450</td>\n",
       "    </tr>\n",
       "    <tr>\n",
       "      <th>1306</th>\n",
       "      <td>16115.30450</td>\n",
       "      <td>30352.874675</td>\n",
       "    </tr>\n",
       "    <tr>\n",
       "      <th>911</th>\n",
       "      <td>33732.68670</td>\n",
       "      <td>27800.495081</td>\n",
       "    </tr>\n",
       "  </tbody>\n",
       "</table>\n",
       "</div>"
      ],
      "text/plain": [
       "           Actual     Predicted\n",
       "34    51194.55914  31681.842839\n",
       "1148  10791.96000   9720.153430\n",
       "669    6500.23590   8242.952678\n",
       "225   11987.16820  14204.219994\n",
       "382   20781.48892  12941.741602\n",
       "789   13457.96080  13882.264035\n",
       "780   18259.21600  29188.253826\n",
       "230    7443.64305  10975.059450\n",
       "1306  16115.30450  30352.874675\n",
       "911   33732.68670  27800.495081"
      ]
     },
     "execution_count": 32,
     "metadata": {},
     "output_type": "execute_result"
    }
   ],
   "source": [
    "y_pred = lin_reg.predict(X_test)\n",
    "\n",
    "#sample predictions\n",
    "result = pd.DataFrame()\n",
    "result['Actual'], result['Predicted'] = y_test, y_pred\n",
    "result.sample(10)"
   ]
  },
  {
   "cell_type": "code",
   "execution_count": 33,
   "id": "43a049f6",
   "metadata": {},
   "outputs": [],
   "source": [
    "#model evaluation\n",
    "mae  = mean_absolute_error(y_test, y_pred)\n",
    "mse  = mean_squared_error(y_test, y_pred)\n",
    "rmse = np.sqrt(mse)"
   ]
  },
  {
   "cell_type": "code",
   "execution_count": 34,
   "id": "322cddf2",
   "metadata": {
    "scrolled": true
   },
   "outputs": [
    {
     "name": "stdout",
     "output_type": "stream",
     "text": [
      "\n",
      " model evaluation (without sex column): \n",
      "\n",
      " Mean Absolute Error (MAE): 4188.8200550358515\n",
      "\n",
      " Mean Squared Error (MSE): 36937508.00880054\n",
      "\n",
      " Root Mean Squared Error (RMSE): 6077.6235494476405\n"
     ]
    }
   ],
   "source": [
    "print(f\"\\n model evaluation (without sex column): \")\n",
    "print(f\"\\n Mean Absolute Error (MAE): {mae:}\")\n",
    "print(f\"\\n Mean Squared Error (MSE): {mse:}\")\n",
    "print(f\"\\n Root Mean Squared Error (RMSE): {rmse:}\")"
   ]
  },
  {
   "cell_type": "markdown",
   "id": "7cd99916",
   "metadata": {},
   "source": [
    "an RMSE of 6077.62 indicates that model's predictions for health insurance charges are, on average, off by roughly $6077.62."
   ]
  },
  {
   "cell_type": "markdown",
   "id": "138a10a4",
   "metadata": {},
   "source": [
    "# 5. Decision Tree Depth Impact\n",
    "We apply a Decision Tree Regressor with max_depth = 3 and max_depth = 10. And observe which of the two is more likely to overfit and why."
   ]
  },
  {
   "cell_type": "code",
   "execution_count": 35,
   "id": "cd49bf22",
   "metadata": {},
   "outputs": [],
   "source": [
    "from sklearn.tree import DecisionTreeRegressor"
   ]
  },
  {
   "cell_type": "markdown",
   "id": "803532fd",
   "metadata": {},
   "source": [
    "NOTE:\n",
    "\n",
    "Directly used Encoded data with categorical columns already converted to float. \n",
    "Dropped sex column as it is in binary and has little to no impact on the charges column."
   ]
  },
  {
   "cell_type": "code",
   "execution_count": 36,
   "id": "4bbcbf82",
   "metadata": {},
   "outputs": [
    {
     "name": "stdout",
     "output_type": "stream",
     "text": [
      "(1338, 9) (1338,)\n"
     ]
    }
   ],
   "source": [
    "#split data\n",
    "X = OHE_df.drop(['charges', 'sex'], axis=1) #all other variables\n",
    "y = OHE_df['charges'] #target variable\n",
    "\n",
    "print(X.shape, y.shape)"
   ]
  },
  {
   "cell_type": "code",
   "execution_count": 37,
   "id": "0241dbee",
   "metadata": {
    "scrolled": true
   },
   "outputs": [
    {
     "name": "stdout",
     "output_type": "stream",
     "text": [
      "(936, 9) (936,) (402, 9) (402,)\n"
     ]
    }
   ],
   "source": [
    "X_train, X_test, y_train, y_test = train_test_split(X, y, test_size=0.3, random_state=30)\n",
    "#30% data for testing\n",
    "print(X_train.shape, y_train.shape, X_test.shape, y_test.shape)"
   ]
  },
  {
   "cell_type": "code",
   "execution_count": 38,
   "id": "0d2e06d7",
   "metadata": {},
   "outputs": [
    {
     "name": "stdout",
     "output_type": "stream",
     "text": [
      "model training with maxdepth 3 complete!\n"
     ]
    }
   ],
   "source": [
    "#DTR model with max depth 3\n",
    "model_md3 = DecisionTreeRegressor(max_depth=3, random_state=30)\n",
    "model_md3.fit(X_train, y_train)\n",
    "print(\"model training with maxdepth 3 complete!\")"
   ]
  },
  {
   "cell_type": "code",
   "execution_count": 39,
   "id": "d43e8cd2",
   "metadata": {},
   "outputs": [
    {
     "data": {
      "text/plain": [
       "0.8310382212673093"
      ]
     },
     "execution_count": 39,
     "metadata": {},
     "output_type": "execute_result"
    }
   ],
   "source": [
    "#accuracy score\n",
    "model_md3.score(X_test,y_test)"
   ]
  },
  {
   "cell_type": "code",
   "execution_count": 40,
   "id": "7da82f82",
   "metadata": {},
   "outputs": [
    {
     "name": "stdout",
     "output_type": "stream",
     "text": [
      "model training with maxdepth 10 complete!\n"
     ]
    }
   ],
   "source": [
    "#DTR model with max depth 10\n",
    "model_md10 = DecisionTreeRegressor(max_depth=10, random_state=30)\n",
    "model_md10.fit(X_train, y_train)\n",
    "print(\"model training with maxdepth 10 complete!\")"
   ]
  },
  {
   "cell_type": "code",
   "execution_count": 41,
   "id": "88d573f5",
   "metadata": {},
   "outputs": [
    {
     "data": {
      "text/plain": [
       "0.6958801542116986"
      ]
     },
     "execution_count": 41,
     "metadata": {},
     "output_type": "execute_result"
    }
   ],
   "source": [
    "#accuracy score\n",
    "model_md10.score(X_test,y_test)"
   ]
  },
  {
   "cell_type": "markdown",
   "id": "3b4d7196",
   "metadata": {},
   "source": [
    "Model with max depth 10 is more likely to overfit as it is a much denser tree with lower accuracy score in comparison to model with max depth 3. "
   ]
  },
  {
   "cell_type": "markdown",
   "id": "c5a04dd6",
   "metadata": {},
   "source": [
    "# visualizations"
   ]
  },
  {
   "cell_type": "code",
   "execution_count": 42,
   "id": "929244a9",
   "metadata": {},
   "outputs": [],
   "source": [
    "import matplotlib.pyplot as plt"
   ]
  },
  {
   "cell_type": "code",
   "execution_count": 83,
   "id": "d138b5d4",
   "metadata": {
    "scrolled": true
   },
   "outputs": [
    {
     "data": {
      "image/png": "[encoded data removed]",
      "text/plain": [
       "<Figure size 640x480 with 1 Axes>"
      ]
     },
     "metadata": {},
     "output_type": "display_data"
    }
   ],
   "source": [
    "pd.crosstab(data['sex'],data['smoker'],).plot(kind='bar')\n",
    "plt.title('Smoker Status by Sex')\n",
    "plt.xlabel('Sex')\n",
    "plt.ylabel('Count')\n",
    "plt.legend(title='Smoker')\n",
    "plt.show()"
   ]
  },
  {
   "cell_type": "code",
   "execution_count": 59,
   "id": "0a53832f",
   "metadata": {},
   "outputs": [
    {
     "data": {
      "image/png": "[encoded data removed]",
      "text/plain": [
       "<Figure size 640x480 with 16 Axes>"
      ]
     },
     "metadata": {},
     "output_type": "display_data"
    }
   ],
   "source": [
    "pd.plotting.scatter_matrix(data)\n",
    "plt.show()"
   ]
  },
  {
   "cell_type": "code",
   "execution_count": 79,
   "id": "bffafb5a",
   "metadata": {},
   "outputs": [
    {
     "data": {
      "image/png": "[encoded data removed]",
      "text/plain": [
       "<Figure size 400x400 with 1 Axes>"
      ]
     },
     "metadata": {},
     "output_type": "display_data"
    }
   ],
   "source": [
    "region_counts = data['region'].value_counts()\n",
    "fig, ax = plt.subplots(figsize=(4, 4))\n",
    "region_counts.plot(\n",
    "    kind='pie', \n",
    "    autopct='%1.1f%%',  # Format for percentage labels    \n",
    "    ax=ax)\n",
    "ax.set_title('Distribution of Regions')\n",
    "plt.show()"
   ]
  }
 ],
 "metadata": {
  "kernelspec": {
   "display_name": "Python 3 (ipykernel)",
   "language": "python",
   "name": "python3"
  },
  "language_info": {
   "codemirror_mode": {
    "name": "ipython",
    "version": 3
   },
   "file_extension": ".py",
   "mimetype": "text/x-python",
   "name": "python",
   "nbconvert_exporter": "python",
   "pygments_lexer": "ipython3",
   "version": "3.10.9"
  }
 },
 "nbformat": 4,
 "nbformat_minor": 5
}
